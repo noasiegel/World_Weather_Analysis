{
 "cells": [
  {
   "cell_type": "code",
   "execution_count": 1,
   "id": "888d9a8b",
   "metadata": {},
   "outputs": [],
   "source": [
    "# Import the random module.\n",
    "import random"
   ]
  },
  {
   "cell_type": "code",
   "execution_count": 2,
   "id": "71b76c08",
   "metadata": {},
   "outputs": [
    {
     "data": {
      "text/plain": [
       "-7"
      ]
     },
     "execution_count": 2,
     "metadata": {},
     "output_type": "execute_result"
    }
   ],
   "source": [
    "random.randint(-90,90)"
   ]
  },
  {
   "cell_type": "code",
   "execution_count": 3,
   "id": "0b3b587a",
   "metadata": {},
   "outputs": [
    {
     "data": {
      "text/plain": [
       "0.13588822516724375"
      ]
     },
     "execution_count": 3,
     "metadata": {},
     "output_type": "execute_result"
    }
   ],
   "source": [
    "random.random()"
   ]
  },
  {
   "cell_type": "code",
   "execution_count": 7,
   "id": "3b29916c",
   "metadata": {},
   "outputs": [
    {
     "data": {
      "text/plain": [
       "24.97925229314991"
      ]
     },
     "execution_count": 7,
     "metadata": {},
     "output_type": "execute_result"
    }
   ],
   "source": [
    "random_number = random.random() + random.randint(-90,90)\n",
    "random_number"
   ]
  },
  {
   "cell_type": "code",
   "execution_count": 8,
   "id": "0d182b69",
   "metadata": {},
   "outputs": [],
   "source": [
    "x = 1\n",
    "latitudes = []\n",
    "while x < 11:\n",
    "    random_lat = random.randint(-90, 89) + random.random()\n",
    "    latitudes.append(random_lat)\n",
    "    x += 1"
   ]
  },
  {
   "cell_type": "code",
   "execution_count": 9,
   "id": "a6711397",
   "metadata": {},
   "outputs": [
    {
     "data": {
      "text/plain": [
       "[79.53129656176375,\n",
       " 57.32220081369484,\n",
       " -38.72849026486216,\n",
       " -61.654558955351206,\n",
       " -55.46686935526916,\n",
       " 19.532945315677605,\n",
       " 54.888849474955386,\n",
       " 5.005322131470658,\n",
       " 34.02265787867741,\n",
       " -24.122045249318788]"
      ]
     },
     "execution_count": 9,
     "metadata": {},
     "output_type": "execute_result"
    }
   ],
   "source": [
    "latitudes"
   ]
  },
  {
   "cell_type": "code",
   "execution_count": 11,
   "id": "3aae70ed",
   "metadata": {},
   "outputs": [
    {
     "data": {
      "text/plain": [
       "-15"
      ]
     },
     "execution_count": 11,
     "metadata": {},
     "output_type": "execute_result"
    }
   ],
   "source": [
    "random.randrange(-90, 90, step=3)"
   ]
  },
  {
   "cell_type": "code",
   "execution_count": 12,
   "id": "3cf8386a",
   "metadata": {},
   "outputs": [
    {
     "data": {
      "text/plain": [
       "0.7499266828949658"
      ]
     },
     "execution_count": 12,
     "metadata": {},
     "output_type": "execute_result"
    }
   ],
   "source": [
    "random.uniform(-90, 90)"
   ]
  },
  {
   "cell_type": "code",
   "execution_count": 13,
   "id": "86454793",
   "metadata": {},
   "outputs": [],
   "source": [
    "# Import the NumPy module.\n",
    "import numpy as np"
   ]
  },
  {
   "cell_type": "code",
   "execution_count": 15,
   "id": "34609ffe",
   "metadata": {},
   "outputs": [
    {
     "data": {
      "text/plain": [
       "-78.81400534151956"
      ]
     },
     "execution_count": 15,
     "metadata": {},
     "output_type": "execute_result"
    }
   ],
   "source": [
    "np.random.uniform(-90.000, 90.000)"
   ]
  },
  {
   "cell_type": "code",
   "execution_count": 16,
   "id": "9a152f60",
   "metadata": {},
   "outputs": [
    {
     "data": {
      "text/plain": [
       "array([-89.17623403,  63.30895328, -52.6313662 ,  85.4134894 ,\n",
       "        86.51052115,  46.11764603, -29.67378168, -32.32246976,\n",
       "       -79.92595051,  51.57820426, -26.77025389, -61.15034039,\n",
       "        64.84894074, -88.71915033,  81.62026112,  69.73623663,\n",
       "       -29.78374754,  -8.62204525, -16.45768651, -43.52585884,\n",
       "         2.42478534,  73.4667799 ,  82.66763109, -11.06871712,\n",
       "        57.58774421, -32.22165193,  60.63234564,  79.01751155,\n",
       "        16.34738883, -11.07594934, -31.08283724,  70.34257171,\n",
       "       -36.36120487,  12.3454593 ,  34.25233247,  42.01866919,\n",
       "        -8.8900348 , -84.62378241, -62.15237581,  84.36039937,\n",
       "        39.73819114, -16.0493973 ,  45.25849049, -52.83589407,\n",
       "       -41.53686676, -60.26637391,  83.64539075, -53.15157979,\n",
       "        67.30817875, -68.11198773])"
      ]
     },
     "execution_count": 16,
     "metadata": {},
     "output_type": "execute_result"
    }
   ],
   "source": [
    "np.random.uniform(-90.000, 90.000, size=50)"
   ]
  },
  {
   "cell_type": "code",
   "execution_count": 18,
   "id": "c6e22d81",
   "metadata": {},
   "outputs": [
    {
     "name": "stdout",
     "output_type": "stream",
     "text": [
      "13.6 µs ± 69.3 ns per loop (mean ± std. dev. of 7 runs, 100000 loops each)\n"
     ]
    }
   ],
   "source": [
    "# Import timeit.\n",
    "import timeit\n",
    "\n",
    "%timeit np.random.uniform(-90.000, 90.000, size=1500)\n"
   ]
  },
  {
   "cell_type": "code",
   "execution_count": 19,
   "id": "677fd5e7",
   "metadata": {},
   "outputs": [
    {
     "name": "stdout",
     "output_type": "stream",
     "text": [
      "1.12 ms ± 7.31 µs per loop (mean ± std. dev. of 7 runs, 1000 loops each)\n"
     ]
    }
   ],
   "source": [
    "def latitudes(size):\n",
    "    latitudes = []\n",
    "    x = 0\n",
    "    while x < (size):\n",
    "        random_lat = random.randint(-90, 90) + random.random()\n",
    "        latitudes.append(random_lat)\n",
    "        x += 1\n",
    "    return latitudes\n",
    "# Call the function with 1500.\n",
    "%timeit latitudes(1500)"
   ]
  },
  {
   "cell_type": "code",
   "execution_count": null,
   "id": "5b6f22aa",
   "metadata": {},
   "outputs": [],
   "source": [
    "\n",
    "\n"
   ]
  }
 ],
 "metadata": {
  "kernelspec": {
   "display_name": "PythonDate",
   "language": "python",
   "name": "pythondate"
  },
  "language_info": {
   "codemirror_mode": {
    "name": "ipython",
    "version": 3
   },
   "file_extension": ".py",
   "mimetype": "text/x-python",
   "name": "python",
   "nbconvert_exporter": "python",
   "pygments_lexer": "ipython3",
   "version": "3.8.8"
  }
 },
 "nbformat": 4,
 "nbformat_minor": 5
}

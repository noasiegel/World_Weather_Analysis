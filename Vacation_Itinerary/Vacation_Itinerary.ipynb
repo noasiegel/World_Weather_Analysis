{
 "cells": [
  {
   "cell_type": "markdown",
   "metadata": {},
   "source": [
    "# Deliverable 3. Create a Travel Itinerary Map.\n",
    "----\n",
    "1. Import the vacation CSV file. \n",
    "2. From the map above with pick 4 cities that are in close proximity (on the same continent) that the customer would travel to and create a directions layer map.\n",
    "3. For the \"travel_mode\" use either \"DRIVING\", \"BICYCLING\", or \"WALKING\".\n",
    "4. Take a screenshot of the route and save it. \n",
    "5. Then create a marker layer for the four cities. Each city will should have a pop-up marker that contains\n",
    "    - The hotel name\n",
    "    - The city\n",
    "    - The country\n",
    "    - The current weather description and the maximum temperature\n",
    "---"
   ]
  },
  {
   "cell_type": "markdown",
   "metadata": {},
   "source": [
    "## Make sure the initial dependencies and the Google API key are imported."
   ]
  },
  {
   "cell_type": "code",
   "execution_count": 1,
   "metadata": {},
   "outputs": [],
   "source": [
    "# Dependencies and Setup\n",
    "import pandas as pd\n",
    "import requests\n",
    "import gmaps\n",
    "\n",
    "# Import API key\n",
    "from google_config import g_key"
   ]
  },
  {
   "cell_type": "code",
   "execution_count": 2,
   "metadata": {},
   "outputs": [],
   "source": [
    "# Configure gmaps\n",
    "gmaps.configure(api_key=g_key)"
   ]
  },
  {
   "cell_type": "markdown",
   "metadata": {},
   "source": [
    "## From your `Vacation_Search` folder from Deliverable 2, import the `WeatherPy_vacation.csv` file as a DataFrame named `vacation_df`"
   ]
  },
  {
   "cell_type": "code",
   "execution_count": 3,
   "metadata": {},
   "outputs": [],
   "source": [
    "# Read the WeatherPy_vacation.csv into a DataFrame\n",
    "vacation_df = pd.read_csv(\"../WeatherPy_vacation.csv\")\n",
    "\n",
    "# Display sample data\n",
    "vacation_df['Country'] == 'US'\n",
    "vacation_df = pd.DataFrame(vacation_df)"
   ]
  },
  {
   "cell_type": "markdown",
   "metadata": {},
   "source": [
    "**Note:** If the resulting DataFrame is empty, uncomment the following code to load sample data into the `clean_hotel_df`."
   ]
  },
  {
   "cell_type": "code",
   "execution_count": 11,
   "metadata": {},
   "outputs": [
    {
     "data": {
      "text/html": [
       "<div>\n",
       "<style scoped>\n",
       "    .dataframe tbody tr th:only-of-type {\n",
       "        vertical-align: middle;\n",
       "    }\n",
       "\n",
       "    .dataframe tbody tr th {\n",
       "        vertical-align: top;\n",
       "    }\n",
       "\n",
       "    .dataframe thead th {\n",
       "        text-align: right;\n",
       "    }\n",
       "</style>\n",
       "<table border=\"1\" class=\"dataframe\">\n",
       "  <thead>\n",
       "    <tr style=\"text-align: right;\">\n",
       "      <th></th>\n",
       "      <th>City_ID</th>\n",
       "      <th>City</th>\n",
       "      <th>Country</th>\n",
       "      <th>Max Temp</th>\n",
       "      <th>Current Description</th>\n",
       "      <th>Lat</th>\n",
       "      <th>Lng</th>\n",
       "      <th>Hotel Name</th>\n",
       "    </tr>\n",
       "  </thead>\n",
       "  <tbody>\n",
       "    <tr>\n",
       "      <th>332</th>\n",
       "      <td>665</td>\n",
       "      <td>Ewa Beach</td>\n",
       "      <td>US</td>\n",
       "      <td>75.20</td>\n",
       "      <td>few clouds</td>\n",
       "      <td>21.32</td>\n",
       "      <td>-158.01</td>\n",
       "      <td>Hampton Inn &amp; Suites Oahu/Kapolei</td>\n",
       "    </tr>\n",
       "    <tr>\n",
       "      <th>333</th>\n",
       "      <td>666</td>\n",
       "      <td>Burke</td>\n",
       "      <td>US</td>\n",
       "      <td>82.99</td>\n",
       "      <td>few clouds</td>\n",
       "      <td>38.79</td>\n",
       "      <td>-77.27</td>\n",
       "      <td>Heart of Fairfax Near GMU Upscale Privacy 2 Be...</td>\n",
       "    </tr>\n",
       "    <tr>\n",
       "      <th>334</th>\n",
       "      <td>669</td>\n",
       "      <td>Lakatoro</td>\n",
       "      <td>US</td>\n",
       "      <td>77.63</td>\n",
       "      <td>light rain</td>\n",
       "      <td>-16.10</td>\n",
       "      <td>167.42</td>\n",
       "      <td>Lakatoro Palm Lodge</td>\n",
       "    </tr>\n",
       "    <tr>\n",
       "      <th>335</th>\n",
       "      <td>671</td>\n",
       "      <td>Lakeside</td>\n",
       "      <td>US</td>\n",
       "      <td>82.99</td>\n",
       "      <td>clear sky</td>\n",
       "      <td>30.13</td>\n",
       "      <td>-81.77</td>\n",
       "      <td>Whitey's Fish Camp</td>\n",
       "    </tr>\n",
       "    <tr>\n",
       "      <th>336</th>\n",
       "      <td>672</td>\n",
       "      <td>Hirara</td>\n",
       "      <td>US</td>\n",
       "      <td>84.18</td>\n",
       "      <td>light rain</td>\n",
       "      <td>24.80</td>\n",
       "      <td>125.28</td>\n",
       "      <td>Hotel Atoll Emerald Miyakojima</td>\n",
       "    </tr>\n",
       "    <tr>\n",
       "      <th>337</th>\n",
       "      <td>673</td>\n",
       "      <td>Shache</td>\n",
       "      <td>US</td>\n",
       "      <td>80.02</td>\n",
       "      <td>clear sky</td>\n",
       "      <td>38.42</td>\n",
       "      <td>77.24</td>\n",
       "      <td>Delong Hotel</td>\n",
       "    </tr>\n",
       "    <tr>\n",
       "      <th>338</th>\n",
       "      <td>674</td>\n",
       "      <td>Moju</td>\n",
       "      <td>US</td>\n",
       "      <td>84.20</td>\n",
       "      <td>few clouds</td>\n",
       "      <td>-1.88</td>\n",
       "      <td>-48.77</td>\n",
       "      <td>HOTEL MARTINS</td>\n",
       "    </tr>\n",
       "    <tr>\n",
       "      <th>339</th>\n",
       "      <td>675</td>\n",
       "      <td>Komsomolsk</td>\n",
       "      <td>US</td>\n",
       "      <td>76.42</td>\n",
       "      <td>clear sky</td>\n",
       "      <td>49.01</td>\n",
       "      <td>33.65</td>\n",
       "      <td>Olʹviya</td>\n",
       "    </tr>\n",
       "    <tr>\n",
       "      <th>340</th>\n",
       "      <td>678</td>\n",
       "      <td>Villagarzon</td>\n",
       "      <td>US</td>\n",
       "      <td>74.14</td>\n",
       "      <td>overcast clouds</td>\n",
       "      <td>1.04</td>\n",
       "      <td>-76.63</td>\n",
       "      <td>Hotel Samari</td>\n",
       "    </tr>\n",
       "    <tr>\n",
       "      <th>341</th>\n",
       "      <td>680</td>\n",
       "      <td>Keti Bandar</td>\n",
       "      <td>US</td>\n",
       "      <td>88.52</td>\n",
       "      <td>overcast clouds</td>\n",
       "      <td>24.14</td>\n",
       "      <td>67.45</td>\n",
       "      <td>Haji laloo memon house</td>\n",
       "    </tr>\n",
       "    <tr>\n",
       "      <th>342</th>\n",
       "      <td>684</td>\n",
       "      <td>Ishigaki</td>\n",
       "      <td>US</td>\n",
       "      <td>84.27</td>\n",
       "      <td>moderate rain</td>\n",
       "      <td>24.34</td>\n",
       "      <td>124.16</td>\n",
       "      <td>Hotel Peace Land Ishigakijima</td>\n",
       "    </tr>\n",
       "    <tr>\n",
       "      <th>343</th>\n",
       "      <td>685</td>\n",
       "      <td>Kupang</td>\n",
       "      <td>US</td>\n",
       "      <td>77.31</td>\n",
       "      <td>scattered clouds</td>\n",
       "      <td>-10.17</td>\n",
       "      <td>123.58</td>\n",
       "      <td>Sylvia Hotel Premier Kupang</td>\n",
       "    </tr>\n",
       "    <tr>\n",
       "      <th>344</th>\n",
       "      <td>687</td>\n",
       "      <td>Suluq</td>\n",
       "      <td>US</td>\n",
       "      <td>84.54</td>\n",
       "      <td>clear sky</td>\n",
       "      <td>31.67</td>\n",
       "      <td>20.25</td>\n",
       "      <td>ورشة الحضيري لاكترونات وخدمات النت</td>\n",
       "    </tr>\n",
       "    <tr>\n",
       "      <th>345</th>\n",
       "      <td>691</td>\n",
       "      <td>Berezyne</td>\n",
       "      <td>US</td>\n",
       "      <td>80.55</td>\n",
       "      <td>few clouds</td>\n",
       "      <td>46.23</td>\n",
       "      <td>29.20</td>\n",
       "      <td>Березинское кладбище</td>\n",
       "    </tr>\n",
       "    <tr>\n",
       "      <th>346</th>\n",
       "      <td>692</td>\n",
       "      <td>Klyuchi</td>\n",
       "      <td>US</td>\n",
       "      <td>76.15</td>\n",
       "      <td>broken clouds</td>\n",
       "      <td>52.27</td>\n",
       "      <td>79.17</td>\n",
       "      <td>Vesolaya Mayovka</td>\n",
       "    </tr>\n",
       "    <tr>\n",
       "      <th>347</th>\n",
       "      <td>695</td>\n",
       "      <td>Kostomuksha</td>\n",
       "      <td>US</td>\n",
       "      <td>79.27</td>\n",
       "      <td>overcast clouds</td>\n",
       "      <td>64.57</td>\n",
       "      <td>30.58</td>\n",
       "      <td>Apartments on Lenina 17</td>\n",
       "    </tr>\n",
       "    <tr>\n",
       "      <th>348</th>\n",
       "      <td>700</td>\n",
       "      <td>Sabratah</td>\n",
       "      <td>US</td>\n",
       "      <td>85.15</td>\n",
       "      <td>clear sky</td>\n",
       "      <td>32.79</td>\n",
       "      <td>12.49</td>\n",
       "      <td>مقبرة المجاهديه</td>\n",
       "    </tr>\n",
       "    <tr>\n",
       "      <th>349</th>\n",
       "      <td>704</td>\n",
       "      <td>Wuwei</td>\n",
       "      <td>US</td>\n",
       "      <td>75.00</td>\n",
       "      <td>overcast clouds</td>\n",
       "      <td>37.93</td>\n",
       "      <td>102.64</td>\n",
       "      <td>Thank Inn Chain Hotel gansu wuwei liangzhou di...</td>\n",
       "    </tr>\n",
       "    <tr>\n",
       "      <th>350</th>\n",
       "      <td>705</td>\n",
       "      <td>Chake Chake</td>\n",
       "      <td>US</td>\n",
       "      <td>78.87</td>\n",
       "      <td>few clouds</td>\n",
       "      <td>-5.25</td>\n",
       "      <td>39.77</td>\n",
       "      <td>Hotel Archipelago</td>\n",
       "    </tr>\n",
       "    <tr>\n",
       "      <th>351</th>\n",
       "      <td>706</td>\n",
       "      <td>Januaria</td>\n",
       "      <td>US</td>\n",
       "      <td>79.92</td>\n",
       "      <td>clear sky</td>\n",
       "      <td>-15.48</td>\n",
       "      <td>-44.37</td>\n",
       "      <td>Hotel Paraguassu</td>\n",
       "    </tr>\n",
       "  </tbody>\n",
       "</table>\n",
       "</div>"
      ],
      "text/plain": [
       "     City_ID         City Country  Max Temp Current Description    Lat  \\\n",
       "332      665    Ewa Beach      US     75.20          few clouds  21.32   \n",
       "333      666        Burke      US     82.99          few clouds  38.79   \n",
       "334      669     Lakatoro      US     77.63          light rain -16.10   \n",
       "335      671     Lakeside      US     82.99           clear sky  30.13   \n",
       "336      672       Hirara      US     84.18          light rain  24.80   \n",
       "337      673       Shache      US     80.02           clear sky  38.42   \n",
       "338      674         Moju      US     84.20          few clouds  -1.88   \n",
       "339      675   Komsomolsk      US     76.42           clear sky  49.01   \n",
       "340      678  Villagarzon      US     74.14     overcast clouds   1.04   \n",
       "341      680  Keti Bandar      US     88.52     overcast clouds  24.14   \n",
       "342      684     Ishigaki      US     84.27       moderate rain  24.34   \n",
       "343      685       Kupang      US     77.31    scattered clouds -10.17   \n",
       "344      687        Suluq      US     84.54           clear sky  31.67   \n",
       "345      691     Berezyne      US     80.55          few clouds  46.23   \n",
       "346      692      Klyuchi      US     76.15       broken clouds  52.27   \n",
       "347      695  Kostomuksha      US     79.27     overcast clouds  64.57   \n",
       "348      700     Sabratah      US     85.15           clear sky  32.79   \n",
       "349      704        Wuwei      US     75.00     overcast clouds  37.93   \n",
       "350      705  Chake Chake      US     78.87          few clouds  -5.25   \n",
       "351      706     Januaria      US     79.92           clear sky -15.48   \n",
       "\n",
       "        Lng                                         Hotel Name  \n",
       "332 -158.01                  Hampton Inn & Suites Oahu/Kapolei  \n",
       "333  -77.27  Heart of Fairfax Near GMU Upscale Privacy 2 Be...  \n",
       "334  167.42                                Lakatoro Palm Lodge  \n",
       "335  -81.77                                 Whitey's Fish Camp  \n",
       "336  125.28                     Hotel Atoll Emerald Miyakojima  \n",
       "337   77.24                                       Delong Hotel  \n",
       "338  -48.77                                      HOTEL MARTINS  \n",
       "339   33.65                                            Olʹviya  \n",
       "340  -76.63                                       Hotel Samari  \n",
       "341   67.45                             Haji laloo memon house  \n",
       "342  124.16                      Hotel Peace Land Ishigakijima  \n",
       "343  123.58                        Sylvia Hotel Premier Kupang  \n",
       "344   20.25                 ورشة الحضيري لاكترونات وخدمات النت  \n",
       "345   29.20                               Березинское кладбище  \n",
       "346   79.17                                   Vesolaya Mayovka  \n",
       "347   30.58                            Apartments on Lenina 17  \n",
       "348   12.49                                    مقبرة المجاهديه  \n",
       "349  102.64  Thank Inn Chain Hotel gansu wuwei liangzhou di...  \n",
       "350   39.77                                  Hotel Archipelago  \n",
       "351  -44.37                                   Hotel Paraguassu  "
      ]
     },
     "execution_count": 11,
     "metadata": {},
     "output_type": "execute_result"
    }
   ],
   "source": [
    "# In case of an empty DataFrame, load the sample data provided\n",
    "clean_hotel_df = pd.read_csv(\"WeatherPy_vacation-backup.csv\")\n",
    "new_df = clean_hotel_df['Country'] = \"US\"\n",
    "new_df = pd.DataFrame(clean_hotel_df)\n",
    "new_df.tail(20)"
   ]
  },
  {
   "cell_type": "markdown",
   "metadata": {
    "tags": []
   },
   "source": [
    "## In this step, you will set-up the pop-up markers. Review the code to create a marker layer map of the vacation search results. This code is the same as in Deliverable 2."
   ]
  },
  {
   "cell_type": "code",
   "execution_count": 5,
   "metadata": {},
   "outputs": [],
   "source": [
    "# Review the formatting template\n",
    "info_box_template = \"\"\"\n",
    "<dl>\n",
    "<dt>Hotel Name</dt><dd>{Hotel Name}</dd>\n",
    "<dt>City</dt><dd>{City}</dd>\n",
    "<dt>Country</dt><dd>{Country}</dd>\n",
    "<dt>Current Weather</dt><dd>{Current Description} and {Max Temp} °F</dd>\n",
    "</dl>\n",
    "\"\"\"\n",
    "\n",
    "# Get the data from each row and add it to the formatting template and store the data in a list\n",
    "hotel_info = [info_box_template.format(**row) for index, row in vacation_df.iterrows()]\n",
    "\n",
    "# Get the latitude and longitude from each row and store in a new DataFrame.\n",
    "locations = vacation_df[[\"Lat\", \"Lng\"]]"
   ]
  },
  {
   "cell_type": "code",
   "execution_count": 13,
   "metadata": {},
   "outputs": [
    {
     "data": {
      "application/vnd.jupyter.widget-view+json": {
       "model_id": "48a766ce7b664731bca544bf565ec432",
       "version_major": 2,
       "version_minor": 0
      },
      "text/plain": [
       "Figure(layout=FigureLayout(height='420px'))"
      ]
     },
     "metadata": {},
     "output_type": "display_data"
    }
   ],
   "source": [
    "# Add a marker layer for each city to the map.\n",
    "marker_layer = gmaps.marker_layer(locations, info_box_content=hotel_info)\n",
    "fig = gmaps.figure()\n",
    "fig.add_layer(marker_layer)\n",
    "\n",
    "# Display the figure\n",
    "fig"
   ]
  },
  {
   "cell_type": "markdown",
   "metadata": {},
   "source": [
    "## From the vacation search map, *choose four cities* that a customer might want to visit. They should be close together and in the same country."
   ]
  },
  {
   "cell_type": "code",
   "execution_count": 20,
   "metadata": {},
   "outputs": [
    {
     "data": {
      "text/html": [
       "<div>\n",
       "<style scoped>\n",
       "    .dataframe tbody tr th:only-of-type {\n",
       "        vertical-align: middle;\n",
       "    }\n",
       "\n",
       "    .dataframe tbody tr th {\n",
       "        vertical-align: top;\n",
       "    }\n",
       "\n",
       "    .dataframe thead th {\n",
       "        text-align: right;\n",
       "    }\n",
       "</style>\n",
       "<table border=\"1\" class=\"dataframe\">\n",
       "  <thead>\n",
       "    <tr style=\"text-align: right;\">\n",
       "      <th></th>\n",
       "      <th>Unnamed: 0</th>\n",
       "      <th>City</th>\n",
       "      <th>Country</th>\n",
       "      <th>Max Temp</th>\n",
       "      <th>Current Description</th>\n",
       "      <th>Lat</th>\n",
       "      <th>Lng</th>\n",
       "      <th>Hotel Name</th>\n",
       "    </tr>\n",
       "  </thead>\n",
       "  <tbody>\n",
       "    <tr>\n",
       "      <th>159</th>\n",
       "      <td>499</td>\n",
       "      <td>Tarpon Springs</td>\n",
       "      <td>US</td>\n",
       "      <td>83.1</td>\n",
       "      <td>scattered clouds</td>\n",
       "      <td>28.1461</td>\n",
       "      <td>-82.7568</td>\n",
       "      <td>Innisbrook, A Salamander Golf and Spa Resort</td>\n",
       "    </tr>\n",
       "  </tbody>\n",
       "</table>\n",
       "</div>"
      ],
      "text/plain": [
       "     Unnamed: 0            City Country  Max Temp Current Description  \\\n",
       "159         499  Tarpon Springs      US      83.1    scattered clouds   \n",
       "\n",
       "         Lat      Lng                                    Hotel Name  \n",
       "159  28.1461 -82.7568  Innisbrook, A Salamander Golf and Spa Resort  "
      ]
     },
     "execution_count": 20,
     "metadata": {},
     "output_type": "execute_result"
    }
   ],
   "source": [
    "# Create DataFrames for each city by filtering the 'vacation_df' using the loc method. \n",
    "# The starting and ending city should be the same city.\n",
    "vacation_start = vacation_df.loc[vacation_df['City'] == 'Saint George']\n",
    "vacation_end = vacation_df.loc[vacation_df['City'] == 'Saint George']\n",
    "vacation_stop1 = vacation_df.loc[vacation_df['City'] == 'Laguna']\n",
    "vacation_stop2 = vacation_df.loc[vacation_df['City'] == 'Iberia']\n",
    "vacation_stop3 = vacation_df.loc[vacation_df['City'] == 'Tarpon Springs']\n",
    "vacation_stop3"
   ]
  },
  {
   "cell_type": "markdown",
   "metadata": {},
   "source": [
    "## Use the `to_numpy()` function and list indexing to write code to retrieve the latitude-longitude pairs as tuples from each city DataFrame."
   ]
  },
  {
   "cell_type": "code",
   "execution_count": 21,
   "metadata": {},
   "outputs": [
    {
     "data": {
      "text/html": [
       "<div>\n",
       "<style scoped>\n",
       "    .dataframe tbody tr th:only-of-type {\n",
       "        vertical-align: middle;\n",
       "    }\n",
       "\n",
       "    .dataframe tbody tr th {\n",
       "        vertical-align: top;\n",
       "    }\n",
       "\n",
       "    .dataframe thead th {\n",
       "        text-align: right;\n",
       "    }\n",
       "</style>\n",
       "<table border=\"1\" class=\"dataframe\">\n",
       "  <thead>\n",
       "    <tr style=\"text-align: right;\">\n",
       "      <th></th>\n",
       "      <th>Unnamed: 0</th>\n",
       "      <th>City</th>\n",
       "      <th>Country</th>\n",
       "      <th>Max Temp</th>\n",
       "      <th>Current Description</th>\n",
       "      <th>Lat</th>\n",
       "      <th>Lng</th>\n",
       "      <th>Hotel Name</th>\n",
       "    </tr>\n",
       "  </thead>\n",
       "  <tbody>\n",
       "    <tr>\n",
       "      <th>40</th>\n",
       "      <td>153</td>\n",
       "      <td>Saint George</td>\n",
       "      <td>US</td>\n",
       "      <td>79.43</td>\n",
       "      <td>clear sky</td>\n",
       "      <td>37.1041</td>\n",
       "      <td>-113.5841</td>\n",
       "      <td>Best Western Plus Abbey Inn</td>\n",
       "    </tr>\n",
       "  </tbody>\n",
       "</table>\n",
       "</div>"
      ],
      "text/plain": [
       "    Unnamed: 0          City Country  Max Temp Current Description      Lat  \\\n",
       "40         153  Saint George      US     79.43           clear sky  37.1041   \n",
       "\n",
       "         Lng                   Hotel Name  \n",
       "40 -113.5841  Best Western Plus Abbey Inn  "
      ]
     },
     "execution_count": 21,
     "metadata": {},
     "output_type": "execute_result"
    }
   ],
   "source": [
    "vacation_start"
   ]
  },
  {
   "cell_type": "code",
   "execution_count": 22,
   "metadata": {},
   "outputs": [],
   "source": [
    "# Get the latitude-longitude pairs as tuples from each city DataFrame using the to_numpy function and list indexing.\n",
    "start = vacation_start['Lat'].to_numpy()[0], vacation_start['Lng'].to_numpy()[0]\n",
    "end = vacation_end['Lat'].to_numpy()[0], vacation_end['Lng'].to_numpy()[0]\n",
    "stop1 = vacation_stop1['Lat'].to_numpy()[0], vacation_stop1['Lng'].to_numpy()[0]\n",
    "stop2 = vacation_stop2['Lat'].to_numpy()[0], vacation_stop2['Lng'].to_numpy()[0]\n",
    "stop3 = vacation_stop3['Lat'].to_numpy()[0], vacation_stop3['Lng'].to_numpy()[0]\n"
   ]
  },
  {
   "cell_type": "markdown",
   "metadata": {},
   "source": [
    "## Use the [gmaps documentation](https://jupyter-gmaps.readthedocs.io/en/latest/tutorial.html#directions-layer) to create a directions layer map using the variables from the previous step. Where the starting and ending city are the same city, the `waypoints` are the three other cities, and the `travel_mode` is either `\"DRIVING\"`, `\"BICYCLING\"`, or `\"WALKING\"`."
   ]
  },
  {
   "cell_type": "code",
   "execution_count": 46,
   "metadata": {
    "tags": []
   },
   "outputs": [
    {
     "data": {
      "application/vnd.jupyter.widget-view+json": {
       "model_id": "ac25aa2eee324239b982be5286272be0",
       "version_major": 2,
       "version_minor": 0
      },
      "text/plain": [
       "Figure(layout=FigureLayout(height='420px'))"
      ]
     },
     "metadata": {},
     "output_type": "display_data"
    }
   ],
   "source": [
    "# Define a new figure object\n",
    "fig = gmaps.figure()\n",
    "\n",
    "# Create a direction layer map using the start and end latitude-longitude pairs, and stop1, stop2, and stop3 as the waypoints.\n",
    "# The travel_mode should be \"DRIVING\", \"BICYCLING\", or \"WALKING\".\n",
    "vacation_itinerary = gmaps.directions_layer(start, end, waypoints=[stop1, stop2, stop3], \n",
    "                                           travel_mode='DRIVING')\n",
    "\n",
    "# Add the layer to the map\n",
    "fig.add_layer(vacation_itinerary)\n",
    "\n",
    "# Display the map\n",
    "fig"
   ]
  },
  {
   "cell_type": "markdown",
   "metadata": {},
   "source": [
    "## Use the provided `concat()` function code snippet to combine the four separate city DataFrames into one DataFrame."
   ]
  },
  {
   "cell_type": "code",
   "execution_count": 47,
   "metadata": {},
   "outputs": [
    {
     "data": {
      "text/html": [
       "<div>\n",
       "<style scoped>\n",
       "    .dataframe tbody tr th:only-of-type {\n",
       "        vertical-align: middle;\n",
       "    }\n",
       "\n",
       "    .dataframe tbody tr th {\n",
       "        vertical-align: top;\n",
       "    }\n",
       "\n",
       "    .dataframe thead th {\n",
       "        text-align: right;\n",
       "    }\n",
       "</style>\n",
       "<table border=\"1\" class=\"dataframe\">\n",
       "  <thead>\n",
       "    <tr style=\"text-align: right;\">\n",
       "      <th></th>\n",
       "      <th>Unnamed: 0</th>\n",
       "      <th>City</th>\n",
       "      <th>Country</th>\n",
       "      <th>Max Temp</th>\n",
       "      <th>Current Description</th>\n",
       "      <th>Lat</th>\n",
       "      <th>Lng</th>\n",
       "      <th>Hotel Name</th>\n",
       "    </tr>\n",
       "  </thead>\n",
       "  <tbody>\n",
       "    <tr>\n",
       "      <th>0</th>\n",
       "      <td>153</td>\n",
       "      <td>Saint George</td>\n",
       "      <td>US</td>\n",
       "      <td>79.43</td>\n",
       "      <td>clear sky</td>\n",
       "      <td>37.1041</td>\n",
       "      <td>-113.5841</td>\n",
       "      <td>Best Western Plus Abbey Inn</td>\n",
       "    </tr>\n",
       "    <tr>\n",
       "      <th>1</th>\n",
       "      <td>132</td>\n",
       "      <td>Laguna</td>\n",
       "      <td>US</td>\n",
       "      <td>83.01</td>\n",
       "      <td>clear sky</td>\n",
       "      <td>38.4210</td>\n",
       "      <td>-121.4238</td>\n",
       "      <td>Holiday Inn Express &amp; Suites Elk Grove Central...</td>\n",
       "    </tr>\n",
       "    <tr>\n",
       "      <th>2</th>\n",
       "      <td>538</td>\n",
       "      <td>Iberia</td>\n",
       "      <td>US</td>\n",
       "      <td>81.05</td>\n",
       "      <td>clear sky</td>\n",
       "      <td>29.9502</td>\n",
       "      <td>-91.7507</td>\n",
       "      <td>back to back rv park</td>\n",
       "    </tr>\n",
       "    <tr>\n",
       "      <th>3</th>\n",
       "      <td>499</td>\n",
       "      <td>Tarpon Springs</td>\n",
       "      <td>US</td>\n",
       "      <td>83.10</td>\n",
       "      <td>scattered clouds</td>\n",
       "      <td>28.1461</td>\n",
       "      <td>-82.7568</td>\n",
       "      <td>Innisbrook, A Salamander Golf and Spa Resort</td>\n",
       "    </tr>\n",
       "  </tbody>\n",
       "</table>\n",
       "</div>"
      ],
      "text/plain": [
       "   Unnamed: 0            City Country  Max Temp Current Description      Lat  \\\n",
       "0         153    Saint George      US     79.43           clear sky  37.1041   \n",
       "1         132          Laguna      US     83.01           clear sky  38.4210   \n",
       "2         538          Iberia      US     81.05           clear sky  29.9502   \n",
       "3         499  Tarpon Springs      US     83.10    scattered clouds  28.1461   \n",
       "\n",
       "        Lng                                         Hotel Name  \n",
       "0 -113.5841                        Best Western Plus Abbey Inn  \n",
       "1 -121.4238  Holiday Inn Express & Suites Elk Grove Central...  \n",
       "2  -91.7507                               back to back rv park  \n",
       "3  -82.7568       Innisbrook, A Salamander Golf and Spa Resort  "
      ]
     },
     "execution_count": 47,
     "metadata": {},
     "output_type": "execute_result"
    }
   ],
   "source": [
    "#  Combine the four city DataFrames into one DataFrame using the concat() function.\n",
    "itinerary_df = pd.concat(\n",
    "    [\n",
    "        vacation_start,\n",
    "        vacation_stop1,\n",
    "        vacation_stop2,\n",
    "        vacation_stop3\n",
    "    ],\n",
    "    ignore_index = True\n",
    ")\n",
    "\n",
    "# Display sample data\n",
    "itinerary_df"
   ]
  },
  {
   "cell_type": "markdown",
   "metadata": {},
   "source": [
    "## Refactor the code from Step 6 to create a new marker layer map of the cities on the travel route."
   ]
  },
  {
   "cell_type": "code",
   "execution_count": 48,
   "metadata": {},
   "outputs": [],
   "source": [
    "# Review the formatting template\n",
    "info_box_template = \"\"\"\n",
    "<dl>\n",
    "<dt>Hotel Name</dt><dd>{Hotel Name}</dd>\n",
    "<dt>City</dt><dd>{City}</dd>\n",
    "<dt>Country</dt><dd>{Country}</dd>\n",
    "<dt>Current Weather</dt><dd>{Current Description} and {Max Temp} °F</dd>\n",
    "</dl>\n",
    "\"\"\"\n",
    "\n",
    "# Get the data from each row and add it to the formatting template and store the data in a list\n",
    "hotel_info = [info_box_template.format(**row) for index, row in itinerary_df.iterrows()]\n",
    "\n",
    "# Get the latitude and longitude from each row and store in a new DataFrame.\n",
    "locations = itinerary_df[[\"Lat\", \"Lng\"]]"
   ]
  },
  {
   "cell_type": "code",
   "execution_count": 52,
   "metadata": {},
   "outputs": [
    {
     "data": {
      "application/vnd.jupyter.widget-view+json": {
       "model_id": "1e0437bf21464455b8cb989bf5faec2d",
       "version_major": 2,
       "version_minor": 0
      },
      "text/plain": [
       "Figure(layout=FigureLayout(height='420px'))"
      ]
     },
     "metadata": {},
     "output_type": "display_data"
    }
   ],
   "source": [
    "# Add a marker layer for each city to the map.\n",
    "new_marker_layer = gmaps.marker_layer(locations, info_box_content=hotel_info)\n",
    "vacation_itinerary = gmaps.directions_layer(start, end, waypoints=[stop1, stop2, stop3], \n",
    "                                           travel_mode='DRIVING')\n",
    "\n",
    "# Define a new figure object\n",
    "fig_final = gmaps.figure()\n",
    "\n",
    "# Add the layer to the map\n",
    "fig_final.add_layer(new_marker_layer)\n",
    "fig.add_layer(vacation_itinerary)\n",
    "\n",
    "# Display the map\n",
    "fig_final"
   ]
  },
  {
   "cell_type": "code",
   "execution_count": null,
   "metadata": {},
   "outputs": [],
   "source": []
  },
  {
   "cell_type": "code",
   "execution_count": null,
   "metadata": {},
   "outputs": [],
   "source": []
  }
 ],
 "metadata": {
  "kernelspec": {
   "display_name": "Python 3 (ipykernel)",
   "language": "python",
   "name": "python3"
  },
  "language_info": {
   "codemirror_mode": {
    "name": "ipython",
    "version": 3
   },
   "file_extension": ".py",
   "mimetype": "text/x-python",
   "name": "python",
   "nbconvert_exporter": "python",
   "pygments_lexer": "ipython3",
   "version": "3.7.13"
  },
  "latex_envs": {
   "LaTeX_envs_menu_present": true,
   "autoclose": false,
   "autocomplete": true,
   "bibliofile": "biblio.bib",
   "cite_by": "apalike",
   "current_citInitial": 1,
   "eqLabelWithNumbers": true,
   "eqNumInitial": 1,
   "hotkeys": {
    "equation": "Ctrl-E",
    "itemize": "Ctrl-I"
   },
   "labels_anchors": false,
   "latex_user_defs": false,
   "report_style_numbering": false,
   "user_envs_cfg": false
  }
 },
 "nbformat": 4,
 "nbformat_minor": 4
}
